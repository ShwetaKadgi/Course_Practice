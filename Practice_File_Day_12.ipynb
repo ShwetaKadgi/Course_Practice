{
 "cells": [
  {
   "cell_type": "code",
   "execution_count": 1,
   "metadata": {},
   "outputs": [
    {
     "name": "stdout",
     "output_type": "stream",
     "text": [
      "The entered name is :  Shweta\n",
      "The entered age is :  20\n"
     ]
    }
   ],
   "source": [
    "# Introduction to classes \n",
    "\n",
    "class Student:\n",
    "    def display_name(self,name):\n",
    "        print(\"The entered name is : \",name)\n",
    "    def display_age(self,age):\n",
    "        print(\"The entered age is : \",age)\n",
    "Obj1=Student()  # Object1 created \n",
    "Obj1.display_name('Shweta')\n",
    "Obj1.display_age(20)"
   ]
  },
  {
   "cell_type": "code",
   "execution_count": 3,
   "metadata": {},
   "outputs": [
    {
     "name": "stdout",
     "output_type": "stream",
     "text": [
      "The entered name is :  Anand\n"
     ]
    }
   ],
   "source": [
    "Obj2=Student()  # Object2 created \n",
    "Obj2.display_name('Anand')"
   ]
  },
  {
   "cell_type": "code",
   "execution_count": 6,
   "metadata": {},
   "outputs": [
    {
     "data": {
      "text/plain": [
       "'Shweta'"
      ]
     },
     "execution_count": 6,
     "metadata": {},
     "output_type": "execute_result"
    }
   ],
   "source": [
    "# Concept of subclass and parent class \n",
    "\n",
    "class ParentClass:    # -----------------------> Parent class\n",
    "    var1='Shweta'\n",
    "    var2='Ashish'\n",
    "\n",
    "class ChildClass:     # ------------------------> Child class \n",
    "    pass \n",
    "\n",
    "Pobj=ParentClass()\n",
    "Pobj.var1"
   ]
  },
  {
   "cell_type": "code",
   "execution_count": 7,
   "metadata": {},
   "outputs": [
    {
     "data": {
      "text/plain": [
       "'Shweta'"
      ]
     },
     "execution_count": 7,
     "metadata": {},
     "output_type": "execute_result"
    }
   ],
   "source": [
    "class ParentClass:\n",
    "    var1='Shweta'\n",
    "    var2='Yash'\n",
    "class ChildClass(ParentClass):\n",
    "    pass\n",
    "chobj=ChildClass()  # Accessing data of parent class by using object of child class \n",
    "chobj.var1\n"
   ]
  },
  {
   "cell_type": "code",
   "execution_count": 17,
   "metadata": {},
   "outputs": [
    {
     "data": {
      "text/plain": [
       "'Sneha'"
      ]
     },
     "execution_count": 17,
     "metadata": {},
     "output_type": "execute_result"
    }
   ],
   "source": [
    "# Overwriting the variales in the childclass \n",
    "\n",
    "class Parent:\n",
    "    std1='Sneha'\n",
    "    std2='Gopal'\n",
    "    std3='Yogesh'\n",
    "\n",
    "class Child(Parent):\n",
    "    std3='Ashish'\n",
    "\n",
    "parobj=Parent()\n",
    "parobj.std3\n",
    "\n"
   ]
  },
  {
   "cell_type": "code",
   "execution_count": 19,
   "metadata": {},
   "outputs": [
    {
     "data": {
      "text/plain": [
       "'Sneha'"
      ]
     },
     "execution_count": 19,
     "metadata": {},
     "output_type": "execute_result"
    }
   ],
   "source": [
    "childobj=Child()\n",
    "childobj.std1"
   ]
  },
  {
   "cell_type": "code",
   "execution_count": 20,
   "metadata": {},
   "outputs": [
    {
     "data": {
      "text/plain": [
       "'Gopal'"
      ]
     },
     "execution_count": 20,
     "metadata": {},
     "output_type": "execute_result"
    }
   ],
   "source": [
    "childobj.std2"
   ]
  },
  {
   "cell_type": "code",
   "execution_count": 21,
   "metadata": {},
   "outputs": [
    {
     "data": {
      "text/plain": [
       "'Ashish'"
      ]
     },
     "execution_count": 21,
     "metadata": {},
     "output_type": "execute_result"
    }
   ],
   "source": [
    "childobj.std3"
   ]
  },
  {
   "cell_type": "code",
   "execution_count": 23,
   "metadata": {},
   "outputs": [
    {
     "data": {
      "text/plain": [
       "'Hey, I am Mom !'"
      ]
     },
     "execution_count": 23,
     "metadata": {},
     "output_type": "execute_result"
    }
   ],
   "source": [
    "# Concept of Multiple Inheritance \n",
    "\n",
    "class Mom:\n",
    "    var1='Hey, I am Mom !'\n",
    "\n",
    "class Dad:\n",
    "    var2='Hey, I am Dad !'\n",
    "\n",
    "class child(Mom,Dad):     # ---------------------> Multiple Inheritance\n",
    "    var3='Hey, I am son !'\n",
    "\n",
    "chobj=child()\n",
    "chobj.var1"
   ]
  },
  {
   "cell_type": "code",
   "execution_count": 24,
   "metadata": {},
   "outputs": [
    {
     "data": {
      "text/plain": [
       "'Hey, I am Dad !'"
      ]
     },
     "execution_count": 24,
     "metadata": {},
     "output_type": "execute_result"
    }
   ],
   "source": [
    "chobj.var2"
   ]
  },
  {
   "cell_type": "code",
   "execution_count": 25,
   "metadata": {},
   "outputs": [
    {
     "data": {
      "text/plain": [
       "'Hey, I am son !'"
      ]
     },
     "execution_count": 25,
     "metadata": {},
     "output_type": "execute_result"
    }
   ],
   "source": [
    "chobj.var3"
   ]
  },
  {
   "cell_type": "code",
   "execution_count": null,
   "metadata": {},
   "outputs": [],
   "source": []
  }
 ],
 "metadata": {
  "kernelspec": {
   "display_name": "Python 3",
   "language": "python",
   "name": "python3"
  },
  "language_info": {
   "codemirror_mode": {
    "name": "ipython",
    "version": 3
   },
   "file_extension": ".py",
   "mimetype": "text/x-python",
   "name": "python",
   "nbconvert_exporter": "python",
   "pygments_lexer": "ipython3",
   "version": "3.7.3"
  }
 },
 "nbformat": 4,
 "nbformat_minor": 2
}
