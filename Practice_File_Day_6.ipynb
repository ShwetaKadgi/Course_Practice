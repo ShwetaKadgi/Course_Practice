{
 "cells": [
  {
   "cell_type": "code",
   "execution_count": 14,
   "metadata": {},
   "outputs": [],
   "source": [
    "My_List=['Shweta','Ashish','Poonam','Anand']"
   ]
  },
  {
   "cell_type": "code",
   "execution_count": 7,
   "metadata": {},
   "outputs": [
    {
     "name": "stdout",
     "output_type": "stream",
     "text": [
      "['Anand', 'Ashish', 'Poonam', 'Shweta']\n"
     ]
    }
   ],
   "source": [
    "print(My_List)"
   ]
  },
  {
   "cell_type": "code",
   "execution_count": 10,
   "metadata": {},
   "outputs": [
    {
     "name": "stdout",
     "output_type": "stream",
     "text": [
      "['Anand', 'Ashish', 'Poonam', 'Shweta']\n"
     ]
    }
   ],
   "source": [
    "# Organizing the list in alphabetical order\n",
    "\n",
    "My_List.sort()\n",
    "print(My_List)"
   ]
  },
  {
   "cell_type": "code",
   "execution_count": 11,
   "metadata": {},
   "outputs": [],
   "source": [
    "# Organizing the list in reverse order \n",
    "\n",
    "My_List.sort(reverse=True)"
   ]
  },
  {
   "cell_type": "code",
   "execution_count": 12,
   "metadata": {},
   "outputs": [
    {
     "name": "stdout",
     "output_type": "stream",
     "text": [
      "['Shweta', 'Poonam', 'Ashish', 'Anand']\n"
     ]
    }
   ],
   "source": [
    "print(My_List)"
   ]
  },
  {
   "cell_type": "code",
   "execution_count": 16,
   "metadata": {},
   "outputs": [],
   "source": [
    "# sorted()"
   ]
  },
  {
   "cell_type": "code",
   "execution_count": 17,
   "metadata": {},
   "outputs": [],
   "source": [
    "New_List=['Aastha','Shweta','Tanishq','Daniya']"
   ]
  },
  {
   "cell_type": "code",
   "execution_count": 18,
   "metadata": {},
   "outputs": [
    {
     "name": "stdout",
     "output_type": "stream",
     "text": [
      "['Aastha', 'Shweta', 'Tanishq', 'Daniya']\n"
     ]
    }
   ],
   "source": [
    "print(New_List)  # Original List "
   ]
  },
  {
   "cell_type": "code",
   "execution_count": 19,
   "metadata": {},
   "outputs": [
    {
     "name": "stdout",
     "output_type": "stream",
     "text": [
      "['Aastha', 'Daniya', 'Shweta', 'Tanishq']\n"
     ]
    }
   ],
   "source": [
    "print(sorted(New_List)) # Sorted List"
   ]
  },
  {
   "cell_type": "code",
   "execution_count": 20,
   "metadata": {},
   "outputs": [
    {
     "name": "stdout",
     "output_type": "stream",
     "text": [
      "['Aastha', 'Shweta', 'Tanishq', 'Daniya']\n"
     ]
    }
   ],
   "source": [
    "print(New_List) # Rechecking the original list "
   ]
  },
  {
   "cell_type": "code",
   "execution_count": 15,
   "metadata": {},
   "outputs": [
    {
     "data": {
      "text/plain": [
       "4"
      ]
     },
     "execution_count": 15,
     "metadata": {},
     "output_type": "execute_result"
    }
   ],
   "source": [
    "len(My_List)  # Displaying the length of the List using len()"
   ]
  },
  {
   "cell_type": "code",
   "execution_count": 21,
   "metadata": {},
   "outputs": [
    {
     "name": "stdout",
     "output_type": "stream",
     "text": [
      "Shweta\n",
      "Ashish\n",
      "Poonam\n",
      "Anand\n"
     ]
    }
   ],
   "source": [
    "for student in My_List:\n",
    "    print(student)"
   ]
  },
  {
   "cell_type": "code",
   "execution_count": 24,
   "metadata": {},
   "outputs": [
    {
     "name": "stdout",
     "output_type": "stream",
     "text": [
      "Best of Luck , Shweta\n",
      "Best of Luck , Ashish\n",
      "Best of Luck , Poonam\n",
      "Best of Luck , Anand\n",
      "\n",
      "Have a great day ahead !\n"
     ]
    }
   ],
   "source": [
    "for item in My_List:\n",
    "    print(f\"Best of Luck , {item.title()}\")\n",
    "print(\"\\nHave a great day ahead !\") # Code Enhancement"
   ]
  },
  {
   "cell_type": "code",
   "execution_count": null,
   "metadata": {},
   "outputs": [],
   "source": []
  }
 ],
 "metadata": {
  "kernelspec": {
   "display_name": "Python 3",
   "language": "python",
   "name": "python3"
  },
  "language_info": {
   "codemirror_mode": {
    "name": "ipython",
    "version": 3
   },
   "file_extension": ".py",
   "mimetype": "text/x-python",
   "name": "python",
   "nbconvert_exporter": "python",
   "pygments_lexer": "ipython3",
   "version": "3.7.3"
  }
 },
 "nbformat": 4,
 "nbformat_minor": 2
}
