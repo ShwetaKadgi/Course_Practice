{
 "cells": [
  {
   "cell_type": "code",
   "execution_count": 1,
   "metadata": {},
   "outputs": [
    {
     "name": "stdout",
     "output_type": "stream",
     "text": [
      "It is Yellow !\n"
     ]
    }
   ],
   "source": [
    "# Simple program to implement class and object concept \n",
    "\n",
    "class Fruits:\n",
    "    def mango(self):\n",
    "        print(\"It is Yellow !\")\n",
    "    def Strawberry(self):\n",
    "        print(\"It is red !\")\n",
    "\n",
    "obj=Fruits()\n",
    "obj.mango()"
   ]
  },
  {
   "cell_type": "code",
   "execution_count": 4,
   "metadata": {},
   "outputs": [
    {
     "ename": "SyntaxError",
     "evalue": "invalid syntax (<ipython-input-4-81c314d83697>, line 4)",
     "output_type": "error",
     "traceback": [
      "\u001b[1;36m  File \u001b[1;32m\"<ipython-input-4-81c314d83697>\"\u001b[1;36m, line \u001b[1;32m4\u001b[0m\n\u001b[1;33m    def__init__(self):\u001b[0m\n\u001b[1;37m                      ^\u001b[0m\n\u001b[1;31mSyntaxError\u001b[0m\u001b[1;31m:\u001b[0m invalid syntax\n"
     ]
    }
   ],
   "source": [
    "# Constructor \n",
    "\n",
    "class Fruits:\n",
    "    def__init__(self):\n",
    "        print(\"This is the constructor !\")\n",
    "    def Mango(self):\n",
    "        print(\"Yellow !\")\n",
    "\n",
    "obj1=Fruits()"
   ]
  },
  {
   "cell_type": "code",
   "execution_count": 5,
   "metadata": {},
   "outputs": [
    {
     "name": "stdout",
     "output_type": "stream",
     "text": [
      "Tell me something and I'll repeat it for you :Hey Hey\n",
      "Hey Hey\n"
     ]
    }
   ],
   "source": [
    "# Accepting the input from the user \n",
    "\n",
    "message = input(\"Tell me something and I'll repeat it for you :\")\n",
    "print(message)\n",
    "\n"
   ]
  },
  {
   "cell_type": "code",
   "execution_count": 7,
   "metadata": {},
   "outputs": [
    {
     "name": "stdout",
     "output_type": "stream",
     "text": [
      "Enter your age :20\n",
      "Congratulations ! You are eligible for voting !\n"
     ]
    }
   ],
   "source": [
    "Age= input(\"Enter your age :\")\n",
    "Age=int(Age)      # This is must because input taken is in the form of a string \n",
    "if Age>18:\n",
    "    print(\"Congratulations ! You are eligible for voting !\")\n",
    "else:\n",
    "    print(\"Oops ! You can't vote this year !!!\")"
   ]
  },
  {
   "cell_type": "code",
   "execution_count": null,
   "metadata": {},
   "outputs": [],
   "source": []
  }
 ],
 "metadata": {
  "kernelspec": {
   "display_name": "Python 3",
   "language": "python",
   "name": "python3"
  },
  "language_info": {
   "codemirror_mode": {
    "name": "ipython",
    "version": 3
   },
   "file_extension": ".py",
   "mimetype": "text/x-python",
   "name": "python",
   "nbconvert_exporter": "python",
   "pygments_lexer": "ipython3",
   "version": "3.7.3"
  }
 },
 "nbformat": 4,
 "nbformat_minor": 2
}
